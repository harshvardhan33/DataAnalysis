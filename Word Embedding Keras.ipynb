{
 "cells": [
  {
   "cell_type": "markdown",
   "metadata": {},
   "source": [
    "## Word Embdedding using Keras and Tensorflow"
   ]
  },
  {
   "cell_type": "code",
   "execution_count": 14,
   "metadata": {},
   "outputs": [],
   "source": [
    "import tensorflow as tf\n",
    "from tensorflow.keras.preprocessing.text import one_hot\n",
    "import numpy as np"
   ]
  },
  {
   "cell_type": "code",
   "execution_count": 3,
   "metadata": {},
   "outputs": [],
   "source": [
    "# Sentences used \n",
    "sent=[  'the glass of milk',\n",
    "     'the glass of juice',\n",
    "     'the cup of tea',\n",
    "    'I am a good boy',\n",
    "     'I am a good developer',\n",
    "     'understand the meaning of words',\n",
    "     'your videos are good',]"
   ]
  },
  {
   "cell_type": "code",
   "execution_count": 8,
   "metadata": {},
   "outputs": [
    {
     "name": "stdout",
     "output_type": "stream",
     "text": [
      "Following are the sentences : \n",
      "the glass of milk\n",
      "------------------------------\n",
      "the glass of juice\n",
      "------------------------------\n",
      "the cup of tea\n",
      "------------------------------\n",
      "I am a good boy\n",
      "------------------------------\n",
      "I am a good developer\n",
      "------------------------------\n",
      "understand the meaning of words\n",
      "------------------------------\n",
      "your videos are good\n",
      "------------------------------\n"
     ]
    }
   ],
   "source": [
    "print(\"Following are the sentences : \")\n",
    "for i in sent:\n",
    "    print(i)\n",
    "    print(\"------------------------------\")"
   ]
  },
  {
   "cell_type": "code",
   "execution_count": 9,
   "metadata": {},
   "outputs": [],
   "source": [
    "# Defining a vocabulary size \n",
    "# It determines the size of the dictionary \n",
    "\n",
    "vocab_size = 10000"
   ]
  },
  {
   "cell_type": "markdown",
   "metadata": {},
   "source": [
    "## One hot representation "
   ]
  },
  {
   "cell_type": "code",
   "execution_count": 12,
   "metadata": {},
   "outputs": [
    {
     "name": "stdout",
     "output_type": "stream",
     "text": [
      "[3786, 1811, 1453, 9988]\n",
      "[3786, 1811, 1453, 4966]\n",
      "[3786, 8320, 1453, 3484]\n",
      "[11, 1835, 4973, 6745, 3305]\n",
      "[11, 1835, 4973, 6745, 1858]\n",
      "[9334, 3786, 9787, 1453, 4544]\n",
      "[1778, 3680, 9099, 6745]\n"
     ]
    }
   ],
   "source": [
    "onehot_repr=[one_hot(words,vocab_size)for words in sent] \n",
    "for i in onehot_repr:\n",
    "    print(i)"
   ]
  },
  {
   "cell_type": "markdown",
   "metadata": {},
   "source": [
    "# Embedding Matrix"
   ]
  },
  {
   "cell_type": "code",
   "execution_count": 13,
   "metadata": {},
   "outputs": [],
   "source": [
    "from tensorflow.keras.layers import Embedding\n",
    "from tensorflow.keras.preprocessing.sequence import pad_sequences\n",
    "from tensorflow.keras.models import Sequential"
   ]
  },
  {
   "cell_type": "markdown",
   "metadata": {},
   "source": [
    "### What is Pad Sequences?\n",
    "Before making the embedding matrix we need to have length of all the sentences equal.<br>\n",
    "In order to achieve that we need to pad the sentences to equal lengths."
   ]
  },
  {
   "cell_type": "code",
   "execution_count": 16,
   "metadata": {},
   "outputs": [
    {
     "name": "stdout",
     "output_type": "stream",
     "text": [
      "[[   0    0    0    0 3786 1811 1453 9988]\n",
      " [   0    0    0    0 3786 1811 1453 4966]\n",
      " [   0    0    0    0 3786 8320 1453 3484]\n",
      " [   0    0    0   11 1835 4973 6745 3305]\n",
      " [   0    0    0   11 1835 4973 6745 1858]\n",
      " [   0    0    0 9334 3786 9787 1453 4544]\n",
      " [   0    0    0    0 1778 3680 9099 6745]]\n"
     ]
    }
   ],
   "source": [
    "sent_length=8\n",
    "embedded_docs=pad_sequences(onehot_repr,padding='pre',maxlen=sent_length)\n",
    "print(embedded_docs)\n",
    "\n",
    "# With padding as pre it will add the zeros in the front "
   ]
  },
  {
   "cell_type": "code",
   "execution_count": 17,
   "metadata": {},
   "outputs": [],
   "source": [
    "dim=10"
   ]
  },
  {
   "cell_type": "code",
   "execution_count": 19,
   "metadata": {},
   "outputs": [],
   "source": [
    "model=Sequential()\n",
    "model.add(Embedding(vocab_size,10,input_length=sent_length))\n",
    "model.compile('adam','mse')"
   ]
  },
  {
   "cell_type": "code",
   "execution_count": 20,
   "metadata": {},
   "outputs": [
    {
     "name": "stdout",
     "output_type": "stream",
     "text": [
      "Model: \"sequential_1\"\n",
      "_________________________________________________________________\n",
      "Layer (type)                 Output Shape              Param #   \n",
      "=================================================================\n",
      "embedding (Embedding)        (None, 8, 10)             100000    \n",
      "=================================================================\n",
      "Total params: 100,000\n",
      "Trainable params: 100,000\n",
      "Non-trainable params: 0\n",
      "_________________________________________________________________\n"
     ]
    }
   ],
   "source": [
    "model.summary()"
   ]
  },
  {
   "cell_type": "code",
   "execution_count": 23,
   "metadata": {},
   "outputs": [],
   "source": [
    "result = model.predict(embedded_docs)"
   ]
  },
  {
   "cell_type": "code",
   "execution_count": 28,
   "metadata": {},
   "outputs": [],
   "source": [
    "# First Sentence \n",
    "x = model.predict(embedded_docs)[0]"
   ]
  },
  {
   "cell_type": "code",
   "execution_count": 29,
   "metadata": {},
   "outputs": [
    {
     "data": {
      "text/plain": [
       "array([[-0.02405747,  0.03893941,  0.03394809, -0.04265183, -0.01425393,\n",
       "         0.0082153 ,  0.04209557, -0.01613782, -0.03318463,  0.04494962],\n",
       "       [-0.02405747,  0.03893941,  0.03394809, -0.04265183, -0.01425393,\n",
       "         0.0082153 ,  0.04209557, -0.01613782, -0.03318463,  0.04494962],\n",
       "       [-0.02405747,  0.03893941,  0.03394809, -0.04265183, -0.01425393,\n",
       "         0.0082153 ,  0.04209557, -0.01613782, -0.03318463,  0.04494962],\n",
       "       [-0.02405747,  0.03893941,  0.03394809, -0.04265183, -0.01425393,\n",
       "         0.0082153 ,  0.04209557, -0.01613782, -0.03318463,  0.04494962],\n",
       "       [-0.03117318,  0.03489931, -0.02428929, -0.03903877,  0.00063873,\n",
       "        -0.04135499, -0.03878986,  0.00739026, -0.00257676,  0.04706749],\n",
       "       [-0.01632384, -0.00690304, -0.03601353, -0.04386529, -0.02254364,\n",
       "         0.0232651 ,  0.04190027,  0.02322766, -0.02862033,  0.03426293],\n",
       "       [-0.04880688, -0.04546933,  0.01762163, -0.00642767, -0.02184128,\n",
       "         0.03560868, -0.01611491, -0.00015531,  0.0192926 , -0.04350792],\n",
       "       [-0.01039936,  0.00842218, -0.0459299 , -0.00052207, -0.0012223 ,\n",
       "        -0.02358655, -0.01274605, -0.00593085, -0.03287456, -0.03785522]],\n",
       "      dtype=float32)"
      ]
     },
     "execution_count": 29,
     "metadata": {},
     "output_type": "execute_result"
    }
   ],
   "source": [
    "x"
   ]
  },
  {
   "cell_type": "code",
   "execution_count": null,
   "metadata": {},
   "outputs": [],
   "source": []
  }
 ],
 "metadata": {
  "kernelspec": {
   "display_name": "Python 3",
   "language": "python",
   "name": "python3"
  },
  "language_info": {
   "codemirror_mode": {
    "name": "ipython",
    "version": 3
   },
   "file_extension": ".py",
   "mimetype": "text/x-python",
   "name": "python",
   "nbconvert_exporter": "python",
   "pygments_lexer": "ipython3",
   "version": "3.7.6"
  }
 },
 "nbformat": 4,
 "nbformat_minor": 4
}
